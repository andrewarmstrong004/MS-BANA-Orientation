{
 "cells": [
  {
   "cell_type": "markdown",
   "metadata": {},
   "source": [
    "# Creating Volcano Maps with Pandas and the Matplotlib Basemap Toolkit\n",
    "\n",
    "**Author**: [Ramiro Gómez](http://ramiro.org/)\n",
    "\n",
    "## Introduction\n",
    "\n",
    "This notebook walks through the process of creating maps of volcanoes with Python. The main steps involve getting, cleaning and finally mapping the data.\n",
    "\n",
    "All Python 3rd party packages used, except the [Matplotlib Basemap Toolkit](http://matplotlib.org/basemap/), are included with the [Anaconda distribution](https://store.continuum.io/cshop/anaconda/) and installed when you create an anaconda environment. To add Basemap simply run the command `conda install basemap` in your activated anaconda environment. To follow the code you should be familiar with [Python](https://www.python.org/), [Pandas](http://pandas.pydata.org/) and [Matplotlib](http://matplotlib.org/).\n",
    "\n",
    "## Get into work\n",
    "\n",
    "First load all Python libraries required in this notebook."
   ]
  },
  {
   "cell_type": "code",
   "execution_count": null,
   "metadata": {
    "collapsed": true
   },
   "outputs": [],
   "source": [
    "#%load_ext signature\n",
    "%matplotlib inline\n",
    "\n",
    "import sys  \n",
    "\n",
    "reload(sys)  \n",
    "sys.setdefaultencoding('utf8')\n",
    "\n",
    "import json\n",
    "\n",
    "from lxml import html\n",
    "from mpl_toolkits.basemap import Basemap\n",
    "#conda install -c anaconda basemap \n",
    "\n",
    "import numpy as np\n",
    "import pandas as pd\n",
    "import matplotlib.pyplot as plt\n",
    "\n",
    "chartinfo = 'Author: Ramiro Gómez - ramiro.org | Data: Volcano World - volcano.oregonstate.edu'"
   ]
  },
  {
   "cell_type": "markdown",
   "metadata": {},
   "source": [
    "## Get the volcano data\n",
    "\n",
    "The data is downloaded and parsed using lxml. The [Volcano World source page](http://volcano.oregonstate.edu/oldroot/volcanoes/alpha.html) lists the volcano data in several HTML tables, which are each read into individual Pandas data frames that are appended to a list of data frames. Since the page also uses tables for layout the first four tables are omitted."
   ]
  },
  {
   "cell_type": "code",
   "execution_count": null,
   "metadata": {
    "collapsed": true
   },
   "outputs": [],
   "source": [
    "url ='http://volcano.oregonstate.edu/oldroot/volcanoes/alpha.html'\n",
    "xpath = '//table'\n",
    "tree = html.parse(url)\n",
    "tables = tree.xpath(xpath)\n",
    "\n",
    "table_dfs = []\n",
    "for idx in range(4, len(tables)):\n",
    "    df = pd.read_html(html.tostring(tables[idx]), header=0)[0]\n",
    "    table_dfs.append(df)"
   ]
  },
  {
   "cell_type": "markdown",
   "metadata": {},
   "source": [
    "The next step is to create a single data frame from the ones in the list using Pandas' `concat` method. To create a new index with consecutive numbers the `index_ignore` parameter is set to `True`."
   ]
  },
  {
   "cell_type": "code",
   "execution_count": null,
   "metadata": {
    "collapsed": true
   },
   "outputs": [],
   "source": [
    "df_volc = pd.concat(table_dfs, ignore_index=True)"
   ]
  },
  {
   "cell_type": "markdown",
   "metadata": {},
   "source": [
    "Let's take a look at the data contained in the newly created data frame."
   ]
  },
  {
   "cell_type": "code",
   "execution_count": null,
   "metadata": {},
   "outputs": [],
   "source": [
    "print(len(df_volc))\n",
    "df_volc.head(10)"
   ]
  },
  {
   "cell_type": "markdown",
   "metadata": {},
   "source": [
    "The data frame contains 1560 records with information on name, location, type, latitude, longitude and elevation. Let's first examine the different types."
   ]
  },
  {
   "cell_type": "code",
   "execution_count": null,
   "metadata": {},
   "outputs": [],
   "source": [
    "df_volc['Type'].value_counts()"
   ]
  },
  {
   "cell_type": "markdown",
   "metadata": {},
   "source": [
    "Looking at the output we see that a single type may be represented by diffent tokens, for example Stratvolcano and Stratvolcanoes refer to the same type. Sometimes entries contain question marks, indicating that the classification may not be correct.\n",
    "\n",
    "## Cleaning the data\n",
    "\n",
    "The next step is to clean the data. I decided to take the classification for granted and simply remove question marks. Also, use one token for each type and change the alternative spellings accordingly. Finally remove superfluous whitespace and start all words with capital letter."
   ]
  },
  {
   "cell_type": "code",
   "execution_count": null,
   "metadata": {},
   "outputs": [],
   "source": [
    "def cleanup_type(s):\n",
    "    if not isinstance(s, str):\n",
    "        return s\n",
    "    s = s.replace('?', '').replace('  ', ' ')\n",
    "    s = s.replace('volcanoes', 'volcano')\n",
    "    s = s.replace('volcanoe', 'Volcano')\n",
    "    s = s.replace('cones', 'cone')\n",
    "    s = s.replace('Calderas', 'Caldera')\n",
    "    return s.strip().title()\n",
    "\n",
    "df_volc['Type'] = df_volc['Type'].map(cleanup_type)\n",
    "df_volc['Type'].value_counts()"
   ]
  },
  {
   "cell_type": "markdown",
   "metadata": {},
   "source": [
    "Now let's get rid of incomplete records."
   ]
  },
  {
   "cell_type": "code",
   "execution_count": null,
   "metadata": {},
   "outputs": [],
   "source": [
    "df_volc.dropna(inplace=True)\n",
    "len(df_volc)"
   ]
  },
  {
   "cell_type": "markdown",
   "metadata": {},
   "source": [
    "## Creating the maps\n",
    "\n",
    "Volcanoes will be plotted as red triangles, whose sizes depend on the elevation values, that's why I'll only consider positive elevations, i. e. remove submarine volcanoes from the data frame."
   ]
  },
  {
   "cell_type": "code",
   "execution_count": null,
   "metadata": {},
   "outputs": [],
   "source": [
    "df_volc = df_volc[df_volc['Elevation (m)'] >= 0]\n",
    "len(df_volc)"
   ]
  },
  {
   "cell_type": "markdown",
   "metadata": {},
   "source": [
    "Next I define a function that will plot a volcano map for the given parameters. Lists of longitudes, latitudes and elevations, that all need to have the same lengths, are mandatory, the other parameters have defaults set.\n",
    "\n",
    "As mentioned above, sizes correspond to elevations, i. e. a higher volcano will be plotted as a larger triangle. To achieve this the 1st line in the `plot_map` function creates an array of bins and the 2nd line maps the individual elevation values to these bins.\n",
    "\n",
    "Next a Basemap object is created, coastlines and boundaries will be drawn and continents filled in the given color. Then the volcanoes are plotted. The 3rd parameter of the `plot` method is set to `^r`, the circumflex stands for triangle and r for red. For more details, see the [documentation for plot](http://matplotlib.org/api/pyplot_api.html#matplotlib.pyplot.plot).\n",
    "\n",
    "The Basemap object will be returned so it can be manipulated after the function finishes and before the map is plotted, you'll see why in a later example."
   ]
  },
  {
   "cell_type": "code",
   "execution_count": null,
   "metadata": {
    "collapsed": true
   },
   "outputs": [],
   "source": [
    "def plot_map(lons, lats, elevations, projection='mill', llcrnrlat=-80, urcrnrlat=90, llcrnrlon=-180, urcrnrlon=180, resolution='i', min_marker_size=2):\n",
    "    bins = np.linspace(0, elevations.max(), 10)\n",
    "    marker_sizes = np.digitize(elevations, bins) + min_marker_size\n",
    "\n",
    "    m = Basemap(projection=projection, llcrnrlat=llcrnrlat, urcrnrlat=urcrnrlat, llcrnrlon=llcrnrlon, urcrnrlon=urcrnrlon, resolution=resolution)\n",
    "    m.drawcoastlines()\n",
    "    m.drawmapboundary()\n",
    "    m.fillcontinents(color = '#333333')\n",
    "    \n",
    "    for lon, lat, msize in zip(lons, lats, marker_sizes):\n",
    "        x, y = m(lon, lat)\n",
    "        m.plot(x, y, '^r', markersize=msize, alpha=.7)\n",
    "    \n",
    "    return m"
   ]
  },
  {
   "cell_type": "markdown",
   "metadata": {},
   "source": [
    "### Map of Stratovolcanos\n",
    "\n",
    "The 1st map shows the locations of Stratovolcanoes on a world map, so the data frame is filtered on the type column beforehand."
   ]
  },
  {
   "cell_type": "code",
   "execution_count": null,
   "metadata": {},
   "outputs": [],
   "source": [
    "plt.figure(figsize=(16, 8))\n",
    "df = df_volc[df_volc['Type'] == 'Stratovolcano']\n",
    "plot_map(df['Longitude'], df['Latitude'], df['Elevation (m)'])\n",
    "plt.annotate('Stratovolcanoes of the world | ' + chartinfo, xy=(0, -1.04), xycoords='axes fraction')"
   ]
  },
  {
   "cell_type": "markdown",
   "metadata": {},
   "source": [
    "We can clearly see that most Stratovolcanoes are located, where tectonic plates meet. Let's look at all volcanoes of some of those regions now."
   ]
  },
  {
   "cell_type": "markdown",
   "metadata": {},
   "source": [
    "## Volcanoes of North America\n",
    "\n",
    "The next map shows all North American volcanoes in the data frame. To display only that part of the map the parameters that determine the bounding box are set accordingly, i. e. the latitudes and longitudes of the lower left and upper right corners of the bounding box."
   ]
  },
  {
   "cell_type": "code",
   "execution_count": null,
   "metadata": {},
   "outputs": [],
   "source": [
    "plt.figure(figsize=(12, 10))\n",
    "plot_map(df_volc['Longitude'], df_volc['Latitude'], df_volc['Elevation (m)'],\n",
    "         llcrnrlat=5.5, urcrnrlat=83.2, llcrnrlon=-180, urcrnrlon=-52.3, min_marker_size=4)\n",
    "plt.annotate('Volcanoes of North America | ' + chartinfo, xy=(0, -1.03), xycoords='axes fraction')"
   ]
  },
  {
   "cell_type": "markdown",
   "metadata": {},
   "source": [
    "## Volcanoes of Indonesia\n",
    "\n",
    "Another region with many volcanoes is the Indonesian archipelago. Some of them like the Krakatoa and Mount Tambora have undergone catastrophic eruptions with [tens of thousands of victims](https://en.wikipedia.org/wiki/List_of_volcanic_eruptions_by_death_toll) in the past 200 years."
   ]
  },
  {
   "cell_type": "code",
   "execution_count": null,
   "metadata": {},
   "outputs": [],
   "source": [
    "plt.figure(figsize=(18, 8))\n",
    "plot_map(df_volc['Longitude'], df_volc['Latitude'], df_volc['Elevation (m)'],\n",
    "         llcrnrlat=-11.1, urcrnrlat=6.1, llcrnrlon=95, urcrnrlon=141.1, min_marker_size=4)\n",
    "plt.annotate('Volcanoes of Indonesia | ' + chartinfo, xy=(0, -1.04), xycoords='axes fraction')"
   ]
  },
  {
   "cell_type": "markdown",
   "metadata": {},
   "source": [
    "## Volcanoes of the world\n",
    "\n",
    "The final map shows all volcanoes in the data frame and the whole map using a background image obtained from the [NASA Web site](http://visibleearth.nasa.gov/view.php?id=73963). To be able to add this image to the map by calling the `warpimage` method, is why the `plot_map` function returns the Basemap object. Moreover, a title and an annotation are added with the code below."
   ]
  },
  {
   "cell_type": "code",
   "execution_count": null,
   "metadata": {},
   "outputs": [],
   "source": [
    "plt.figure(figsize=(20, 12))\n",
    "m = plot_map(df_volc['Longitude'], df_volc['Latitude'], df_volc['Elevation (m)'], min_marker_size=2)\n",
    "m.warpimage(image='raw-bathymetry.jpg', scale=1)\n",
    "\n",
    "plt.title('Volcanoes of the World', color='#000000', fontsize=40)\n",
    "plt.annotate(chartinfo + ' | Image: NASA - nasa.gov',\n",
    "             (0, 0), color='#bbbbbb', fontsize=11)\n",
    "plt.show()"
   ]
  },
  {
   "cell_type": "markdown",
   "metadata": {},
   "source": [
    "## Map Poster\n",
    "\n",
    "I also created a [poster of this map on Zazzle](http://www.zazzle.com/volcanoes_of_the_world_miller_projection_print-228575577731117978?rf=238355915198956003).\n",
    "\n",
    "<a href=\"http://www.zazzle.com/volcanoes_of_the_world_miller_projection_print-228575577731117978?rf=238355915198956003\"><img src=\"http://rlv.zcache.com/volcanoes_of_the_world_miller_projection_print-r61427a93ea4f4ce5b97c20d8afecc9c6_w2u_8byvr_500.jpg\" alt=\"Volcanoes of the World - Miller Projection Print\" /></a>"
   ]
  },
  {
   "cell_type": "markdown",
   "metadata": {},
   "source": [
    "## Bonus: volcano globe\n",
    "\n",
    "In addition to these static maps I created [this volcano globe](http://volcanoes.travel-channels.com/). It is built with the [WebGL globe](https://github.com/dataarts/webgl-globe) project, that expects the following data structure `[ latitude, longitude, magnitude, latitude, longitude, magnitude, ... ]`.\n",
    "\n",
    "To achieve this structure, I create a data frame that contains only latitude, longitude, and elevation, call the `as_matrix` method which creates an array with a list of lists containing the column values, flatten this into a 1-dimensional array, turn it to a list and save the new data structure as a JSON file."
   ]
  },
  {
   "cell_type": "code",
   "execution_count": null,
   "metadata": {
    "collapsed": true
   },
   "outputs": [],
   "source": [
    "df_globe_values = df_volc[['Latitude', 'Longitude', 'Elevation (m)']]\n",
    "globe_values = df_globe_values.as_matrix().flatten().tolist()\n",
    "with open('json/globe_volcanoes.json', 'w') as f:\n",
    "    json.dump(globe_values, f)"
   ]
  },
  {
   "cell_type": "markdown",
   "metadata": {},
   "source": [
    "## Summary\n",
    "\n",
    "This notebook shows how you can plot maps with locations using Pandas and Basemap. This was a rather quick walk-through, which did not go into too much detail explaining the code. If you like to learn more about the topic, I highly recommend the [Mapping Global Earthquake Activity](http://introtopython.org/visualization_earthquakes.html) tutorial, which is more in-depth and contains various nice examples. Have fun mapping data with Python!"
   ]
  }
 ],
 "metadata": {
  "anaconda-cloud": {},
  "kernelspec": {
   "display_name": "Python [conda root]",
   "language": "python",
   "name": "conda-root-py"
  },
  "language_info": {
   "codemirror_mode": {
    "name": "ipython",
    "version": 2
   },
   "file_extension": ".py",
   "mimetype": "text/x-python",
   "name": "python",
   "nbconvert_exporter": "python",
   "pygments_lexer": "ipython2",
   "version": "2.7.13"
  }
 },
 "nbformat": 4,
 "nbformat_minor": 1
}
