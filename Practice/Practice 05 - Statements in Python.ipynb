{
 "cells": [
  {
   "cell_type": "markdown",
   "metadata": {
    "collapsed": true
   },
   "source": [
    "# Homework 06 - Statements in Python"
   ]
  },
  {
   "cell_type": "markdown",
   "metadata": {},
   "source": [
    "### In one line assign both a and b to 17"
   ]
  },
  {
   "cell_type": "code",
   "execution_count": null,
   "metadata": {
    "collapsed": true
   },
   "outputs": [],
   "source": []
  },
  {
   "cell_type": "markdown",
   "metadata": {},
   "source": [
    "### In one line assign each character in the string to a different variable.  Print all the variables (need not be on a single line)."
   ]
  },
  {
   "cell_type": "code",
   "execution_count": null,
   "metadata": {
    "collapsed": true
   },
   "outputs": [],
   "source": [
    "'class'"
   ]
  },
  {
   "cell_type": "markdown",
   "metadata": {},
   "source": [
    "### Use an augmented assignment to append the two strings"
   ]
  },
  {
   "cell_type": "code",
   "execution_count": null,
   "metadata": {
    "collapsed": true
   },
   "outputs": [],
   "source": [
    "harry = 'Harry '\n",
    "potter = 'Potter'\n",
    "\n"
   ]
  },
  {
   "cell_type": "markdown",
   "metadata": {},
   "source": [
    "### Remove the last item from the list and print it in a single line"
   ]
  },
  {
   "cell_type": "code",
   "execution_count": null,
   "metadata": {
    "collapsed": true
   },
   "outputs": [],
   "source": [
    "suits = ['spades', 'diamonds', 'clubs', 'hearts']"
   ]
  },
  {
   "cell_type": "markdown",
   "metadata": {},
   "source": [
    "### Add 'king' to the end of the list, then print the full list"
   ]
  },
  {
   "cell_type": "code",
   "execution_count": null,
   "metadata": {
    "collapsed": true
   },
   "outputs": [],
   "source": [
    "card_values = ['ace','2','3','4','5','6','7','8','9','10','jack','queen']"
   ]
  },
  {
   "cell_type": "markdown",
   "metadata": {},
   "source": [
    "### Create a series of if statements that will tell me if a given card value from the provided list is greater than, less than, or equal to 7.  Treat 'ace' as though it has a value of 1.\n",
    "\n",
    "For example, if you are provided '3', your code should print out:\n",
    "3 is less than 7\n",
    "\n",
    "If you are prvided 'king', your code should print out:\n",
    "king is greater than 7\n",
    "\n",
    "If you are provided a '7', your code should print out:\n",
    "7 is equal to 7"
   ]
  },
  {
   "cell_type": "code",
   "execution_count": null,
   "metadata": {
    "collapsed": true
   },
   "outputs": [],
   "source": [
    "card_values = ['ace','2','3','4','5','6','7','8','9','10','jack','queen','king']\n",
    "\n",
    "example_input_a = '4'\n",
    "example_input_b = 'queen'"
   ]
  },
  {
   "cell_type": "markdown",
   "metadata": {},
   "source": [
    "### Given a card value from the provided list, print out its representative number.\n",
    "\n",
    "For example, if you are provided '8' your code should print out:\n",
    "8 is equal to 8\n",
    "\n",
    "if you are provided 'king' your code should print out:\n",
    "king is equal to 13"
   ]
  },
  {
   "cell_type": "code",
   "execution_count": null,
   "metadata": {},
   "outputs": [],
   "source": [
    "card_values = ['ace','2','3','4','5','6','7','8','9','10','jack','queen','king']\n",
    "\n",
    "example_input_a = '9'\n",
    "example_input_b = 'ace'"
   ]
  },
  {
   "cell_type": "markdown",
   "metadata": {},
   "source": [
    "### Loop through the following list of values, adding them as you go.  Once the value is greater than 50 print the sum and stop."
   ]
  },
  {
   "cell_type": "code",
   "execution_count": null,
   "metadata": {
    "collapsed": true
   },
   "outputs": [],
   "source": [
    "test_list = [1,3,9,3,18,9,21,19,7,12,15,22,29,65]"
   ]
  },
  {
   "cell_type": "markdown",
   "metadata": {},
   "source": [
    "### Print each element of the list until you reach the value of 12, then stop.  Use a while loop."
   ]
  },
  {
   "cell_type": "code",
   "execution_count": null,
   "metadata": {
    "collapsed": true
   },
   "outputs": [],
   "source": [
    "test_list = [1,3,9,3,18,9,21,19,7,12,15,22,29,65]"
   ]
  },
  {
   "cell_type": "markdown",
   "metadata": {},
   "source": [
    "### Print each element of the list until you reach the value of 12, then stop.  Use a for loop."
   ]
  },
  {
   "cell_type": "code",
   "execution_count": null,
   "metadata": {
    "collapsed": true
   },
   "outputs": [],
   "source": [
    "test_list = [1,3,9,3,18,9,21,19,7,12,15,22,29,65]"
   ]
  },
  {
   "cell_type": "markdown",
   "metadata": {},
   "source": [
    "### Print each element of the list\n",
    "\n",
    "The first few printed lines should be:\n",
    "\n",
    "The element is equal to 1\n",
    "\n",
    "The element is equal to 3\n",
    "\n",
    "The element is equal to 9"
   ]
  },
  {
   "cell_type": "code",
   "execution_count": null,
   "metadata": {
    "collapsed": true
   },
   "outputs": [],
   "source": [
    "test_list = [1,3,9,3,18,9,21,19,7,12,15,22,29,65]"
   ]
  },
  {
   "cell_type": "markdown",
   "metadata": {},
   "source": [
    "### Print each key/value pair from the dictionary\n",
    "\n",
    "The form of each printed line should be:\n",
    "\n",
    "The [team] are from [city or state]\n",
    "\n",
    "for example:\n",
    "\n",
    "The Red Wings are from Detroit"
   ]
  },
  {
   "cell_type": "code",
   "execution_count": null,
   "metadata": {
    "collapsed": true
   },
   "outputs": [],
   "source": [
    "atlantic = {'Boston':'Bruins', 'Buffalo': 'Sabres', 'Detroit': 'Red Wings', 'Florida':'Panthers', 'Montreal':'Canadiens', 'Ottawa':'Senators', 'Tampa Bay': 'Lightning', 'Toronto':'Maple Leafs'}\n"
   ]
  },
  {
   "cell_type": "markdown",
   "metadata": {},
   "source": [
    "### Create a list of every (natural) number from 17 to 129"
   ]
  },
  {
   "cell_type": "code",
   "execution_count": null,
   "metadata": {
    "collapsed": true
   },
   "outputs": [],
   "source": []
  },
  {
   "cell_type": "markdown",
   "metadata": {},
   "source": [
    "### Print the lenght of the following list"
   ]
  },
  {
   "cell_type": "code",
   "execution_count": null,
   "metadata": {
    "collapsed": true
   },
   "outputs": [],
   "source": [
    "test_list = [1,3,9,3,18,9,21,19,7,12,15,22,29,65]"
   ]
  },
  {
   "cell_type": "markdown",
   "metadata": {},
   "source": [
    "### Using zip, create a dictionary, named metropolitan, using the values in the location list as the keys and the the teams in the team list as the values"
   ]
  },
  {
   "cell_type": "code",
   "execution_count": null,
   "metadata": {
    "collapsed": true
   },
   "outputs": [],
   "source": [
    "location = ['Carolina', 'Columbus', 'New Jersey', 'New York 1', 'New York 2', 'Philadelphia', 'Pittsburgh', 'Washington']\n",
    "team = ['Hurricanes', 'Blue Jackets', 'Devils', 'Islanders', 'Rangers', 'Flyers', 'Penguins', 'Capitals']\n"
   ]
  },
  {
   "cell_type": "markdown",
   "metadata": {},
   "source": [
    "### For each element in the list print out its index and its corresponding value\n",
    "\n",
    "Use the format:\n",
    "\n",
    "0: 1\n",
    "\n",
    "1: 3\n",
    "\n",
    "2: 9"
   ]
  },
  {
   "cell_type": "code",
   "execution_count": null,
   "metadata": {
    "collapsed": true
   },
   "outputs": [],
   "source": [
    "test_list = [1,3,9,3,18,9,21,19,7,12,15,22,29,65]"
   ]
  },
  {
   "cell_type": "markdown",
   "metadata": {},
   "source": [
    "### Create a list of tuples for each card in a deck of cards using the provided lists.  Then print out each tuple on its own seperate line.\n",
    "\n",
    "For example, your list should have as elements:\n",
    "\n",
    "('king','clubs')\n",
    "\n",
    "('3', 'diamonds')\n",
    "\n",
    "('ace', 'hearts')"
   ]
  },
  {
   "cell_type": "code",
   "execution_count": null,
   "metadata": {
    "collapsed": true
   },
   "outputs": [],
   "source": [
    "card_values = ['ace','2','3','4','5','6','7','8','9','10','jack','queen','king']\n",
    "suits = ['spades', 'diamonds', 'clubs', 'hearts']"
   ]
  }
 ],
 "metadata": {
  "anaconda-cloud": {},
  "kernelspec": {
   "display_name": "Python [conda root]",
   "language": "python",
   "name": "conda-root-py"
  },
  "language_info": {
   "codemirror_mode": {
    "name": "ipython",
    "version": 2
   },
   "file_extension": ".py",
   "mimetype": "text/x-python",
   "name": "python",
   "nbconvert_exporter": "python",
   "pygments_lexer": "ipython2",
   "version": "2.7.13"
  }
 },
 "nbformat": 4,
 "nbformat_minor": 2
}
