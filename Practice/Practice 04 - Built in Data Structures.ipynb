{
 "cells": [
  {
   "cell_type": "markdown",
   "metadata": {
    "collapsed": true
   },
   "source": [
    "# Homework 04 - Built in Data Structures"
   ]
  },
  {
   "cell_type": "markdown",
   "metadata": {},
   "source": [
    "### Create a list containing 4 different types of elements"
   ]
  },
  {
   "cell_type": "code",
   "execution_count": null,
   "metadata": {
    "collapsed": true
   },
   "outputs": [],
   "source": []
  },
  {
   "cell_type": "markdown",
   "metadata": {},
   "source": [
    "### Create a list of all the characters in the provided sting"
   ]
  },
  {
   "cell_type": "code",
   "execution_count": 2,
   "metadata": {
    "collapsed": true
   },
   "outputs": [],
   "source": [
    "string_a = 'Harry Potter and the Prisoner of Azkaban'\n"
   ]
  },
  {
   "cell_type": "markdown",
   "metadata": {},
   "source": [
    "### Create a list of 3 lists, each with containting three 1s"
   ]
  },
  {
   "cell_type": "code",
   "execution_count": null,
   "metadata": {
    "collapsed": true
   },
   "outputs": [],
   "source": []
  },
  {
   "cell_type": "markdown",
   "metadata": {},
   "source": [
    "### What is the first and third elements of the provided list"
   ]
  },
  {
   "cell_type": "code",
   "execution_count": 4,
   "metadata": {
    "collapsed": true
   },
   "outputs": [],
   "source": [
    "houses = ['Gryffindor','Ravenclaw','Hufflepuff','Slytherin']\n"
   ]
  },
  {
   "cell_type": "markdown",
   "metadata": {},
   "source": [
    "### Print out a list of the last two elements of the provided list"
   ]
  },
  {
   "cell_type": "code",
   "execution_count": 6,
   "metadata": {
    "collapsed": true
   },
   "outputs": [],
   "source": [
    "houses = ['Gryffindor','Ravenclaw','Hufflepuff','Slytherin']\n"
   ]
  },
  {
   "cell_type": "markdown",
   "metadata": {},
   "source": [
    "### Print the provided list in reverse order"
   ]
  },
  {
   "cell_type": "code",
   "execution_count": 7,
   "metadata": {
    "collapsed": true
   },
   "outputs": [],
   "source": [
    "houses = ['Gryffindor','Ravenclaw','Hufflepuff','Slytherin']\n"
   ]
  },
  {
   "cell_type": "markdown",
   "metadata": {},
   "source": [
    "### What is the length of the provided list"
   ]
  },
  {
   "cell_type": "code",
   "execution_count": 8,
   "metadata": {
    "collapsed": true
   },
   "outputs": [],
   "source": [
    "houses = ['Gryffindor','Ravenclaw','Hufflepuff','Slytherin']"
   ]
  },
  {
   "cell_type": "markdown",
   "metadata": {},
   "source": [
    "### Concatenate the following two lists"
   ]
  },
  {
   "cell_type": "code",
   "execution_count": null,
   "metadata": {
    "collapsed": true
   },
   "outputs": [],
   "source": [
    "list_a = [2, 3, 5, 7, 11, 13, 17, 19, 23, 29, 31, 37, 41, 43, 47]\n",
    "list_b = [53, 59, 61, 67, 71, 73, 79, 83, 89, 97, 101]"
   ]
  },
  {
   "cell_type": "markdown",
   "metadata": {},
   "source": [
    "### Make a list with the following list values repeated 4 time"
   ]
  },
  {
   "cell_type": "code",
   "execution_count": null,
   "metadata": {
    "collapsed": true
   },
   "outputs": [],
   "source": [
    "houses = ['Gryffindor','Ravenclaw','Hufflepuff','Slytherin']"
   ]
  },
  {
   "cell_type": "markdown",
   "metadata": {},
   "source": [
    "### What is the index of 73 in the provided list"
   ]
  },
  {
   "cell_type": "code",
   "execution_count": 9,
   "metadata": {
    "collapsed": true
   },
   "outputs": [],
   "source": [
    "primes = [2, 3, 5, 7, 11, 13, 17, 19, 23, 29, 31, 37, 41, 43, 47, 53, 59, 61, 67, 71, 73, 79, 83, 89, 97, 101]"
   ]
  },
  {
   "cell_type": "markdown",
   "metadata": {},
   "source": [
    "### Is 42 in the provided list?"
   ]
  },
  {
   "cell_type": "code",
   "execution_count": 10,
   "metadata": {
    "collapsed": true
   },
   "outputs": [],
   "source": [
    "primes = [2, 3, 5, 7, 11, 13, 17, 19, 23, 29, 31, 37, 41, 43, 47, 53, 59, 61, 67, 71, 73, 79, 83, 89, 97, 101]"
   ]
  },
  {
   "cell_type": "markdown",
   "metadata": {},
   "source": [
    "### Add the next prime number, 103, to the provided list"
   ]
  },
  {
   "cell_type": "code",
   "execution_count": null,
   "metadata": {
    "collapsed": true
   },
   "outputs": [],
   "source": [
    "primes = [2, 3, 5, 7, 11, 13, 17, 19, 23, 29, 31, 37, 41, 43, 47, 53, 59, 61, 67, 71, 73, 79, 83, 89, 97, 101]\n"
   ]
  },
  {
   "cell_type": "markdown",
   "metadata": {},
   "source": [
    "### Remove the last prime number in the list"
   ]
  },
  {
   "cell_type": "code",
   "execution_count": null,
   "metadata": {
    "collapsed": true
   },
   "outputs": [],
   "source": [
    "primes = [2, 3, 5, 7, 11, 13, 17, 19, 23, 29, 31, 37, 41, 43, 47, 53, 59, 61, 67, 71, 73, 79, 83, 89, 97, 101]"
   ]
  },
  {
   "cell_type": "markdown",
   "metadata": {},
   "source": [
    "### Insert 42 into the the appropriate place to maintain order in the list"
   ]
  },
  {
   "cell_type": "code",
   "execution_count": null,
   "metadata": {
    "collapsed": true
   },
   "outputs": [],
   "source": [
    "primes = [2, 3, 5, 7, 11, 13, 17, 19, 23, 29, 31, 37, 41, 43, 47, 53, 59, 61, 67, 71, 73, 79, 83, 89, 97, 101]"
   ]
  },
  {
   "cell_type": "markdown",
   "metadata": {},
   "source": [
    "### Howmany 'fish' are in the provided list"
   ]
  },
  {
   "cell_type": "code",
   "execution_count": null,
   "metadata": {
    "collapsed": true
   },
   "outputs": [],
   "source": [
    "seuss = ['one', 'fist', 'two', 'fish', 'red', 'fist', 'blue', 'fish']"
   ]
  },
  {
   "cell_type": "markdown",
   "metadata": {},
   "source": [
    "### Sort the provided list in ascending order"
   ]
  },
  {
   "cell_type": "code",
   "execution_count": 16,
   "metadata": {
    "collapsed": true
   },
   "outputs": [],
   "source": [
    "digits = [8,4,1,3,0,2,7,6,5,9]"
   ]
  },
  {
   "cell_type": "markdown",
   "metadata": {},
   "source": [
    "### Sort the provided list in decending order"
   ]
  },
  {
   "cell_type": "code",
   "execution_count": 17,
   "metadata": {
    "collapsed": true
   },
   "outputs": [],
   "source": [
    "digits = [8,4,1,3,0,2,7,6,5,9]"
   ]
  },
  {
   "cell_type": "markdown",
   "metadata": {},
   "source": [
    "### Reverse the provided list "
   ]
  },
  {
   "cell_type": "code",
   "execution_count": 18,
   "metadata": {
    "collapsed": true
   },
   "outputs": [],
   "source": [
    "seuss = ['one', 'fist', 'two', 'fish', 'red', 'fist', 'blue', 'fish']"
   ]
  },
  {
   "cell_type": "markdown",
   "metadata": {},
   "source": [
    "### Remove Gryffindor from the provided list and print the result"
   ]
  },
  {
   "cell_type": "code",
   "execution_count": null,
   "metadata": {
    "collapsed": true
   },
   "outputs": [],
   "source": [
    "houses = ['Gryffindor','Ravenclaw','Hufflepuff','Slytherin']"
   ]
  },
  {
   "cell_type": "markdown",
   "metadata": {},
   "source": [
    "### Create a 3x3 matrix using lists of lists composed entierly of 1s"
   ]
  },
  {
   "cell_type": "code",
   "execution_count": null,
   "metadata": {
    "collapsed": true
   },
   "outputs": [],
   "source": []
  },
  {
   "cell_type": "markdown",
   "metadata": {},
   "source": [
    "### Create a list with your name, major, and graduating year os keys with your appropriate data"
   ]
  },
  {
   "cell_type": "code",
   "execution_count": null,
   "metadata": {
    "collapsed": true
   },
   "outputs": [],
   "source": []
  },
  {
   "cell_type": "markdown",
   "metadata": {},
   "source": [
    "### Create a dictionary with at least four entries where the keys are the last names of your favorite authors, and the value is your faviorite book of theirs"
   ]
  },
  {
   "cell_type": "code",
   "execution_count": null,
   "metadata": {
    "collapsed": true
   },
   "outputs": [],
   "source": []
  },
  {
   "cell_type": "markdown",
   "metadata": {},
   "source": [
    "### Show me the house roster for Ravenclaw"
   ]
  },
  {
   "cell_type": "code",
   "execution_count": 4,
   "metadata": {
    "collapsed": true
   },
   "outputs": [],
   "source": [
    "house_roster = {'Gryffindor':['Harry','Ron','Hermione','Neville'],'Ravenclaw':['Luna', 'Gilderoy', 'Penelope', 'Filius'],'Hufflepuff':['Newton', 'Nymphadora', 'Cedric', 'Teddy'],'Slytherin':['Tom', 'Draco', 'Regulus', 'Narcissa']}\n"
   ]
  },
  {
   "cell_type": "markdown",
   "metadata": {},
   "source": [
    "### Delete all the Gryffindor information from the following dictionary "
   ]
  },
  {
   "cell_type": "code",
   "execution_count": 5,
   "metadata": {
    "collapsed": true
   },
   "outputs": [],
   "source": [
    "house_roster = {'Gryffindor':['Harry','Ron','Hermione','Neville'],'Ravenclaw':['Luna', 'Gilderoy', 'Penelope', 'Filius'],'Hufflepuff':['Newton', 'Nymphadora', 'Cedric', 'Teddy'],'Slytherin':['Tom', 'Draco', 'Regulus', 'Narcissa']}\n"
   ]
  },
  {
   "cell_type": "markdown",
   "metadata": {},
   "source": [
    "### Print all the keys in the provided dictionary"
   ]
  },
  {
   "cell_type": "code",
   "execution_count": 6,
   "metadata": {
    "collapsed": true
   },
   "outputs": [],
   "source": [
    "house_roster = {'Gryffindor':['Harry','Ron','Hermione','Neville'],'Ravenclaw':['Luna', 'Gilderoy', 'Penelope', 'Filius'],'Hufflepuff':['Newton', 'Nymphadora', 'Cedric', 'Teddy'],'Slytherin':['Tom', 'Draco', 'Regulus', 'Narcissa']}\n"
   ]
  },
  {
   "cell_type": "markdown",
   "metadata": {},
   "source": [
    "### Print all the values in the provided dictionary"
   ]
  },
  {
   "cell_type": "code",
   "execution_count": 7,
   "metadata": {
    "collapsed": true
   },
   "outputs": [],
   "source": [
    "house_roster = {'Gryffindor':['Harry','Ron','Hermione','Neville'],'Ravenclaw':['Luna', 'Gilderoy', 'Penelope', 'Filius'],'Hufflepuff':['Newton', 'Nymphadora', 'Cedric', 'Teddy'],'Slytherin':['Tom', 'Draco', 'Regulus', 'Narcissa']}\n"
   ]
  },
  {
   "cell_type": "markdown",
   "metadata": {},
   "source": [
    "### Make a copy of the following dictionary, then add Abraxas to the Slytherine roster and print the result"
   ]
  },
  {
   "cell_type": "code",
   "execution_count": 8,
   "metadata": {
    "collapsed": true
   },
   "outputs": [],
   "source": [
    "house_roster = {'Gryffindor':['Harry','Ron','Hermione','Neville'],'Ravenclaw':['Luna', 'Gilderoy', 'Penelope', 'Filius'],'Hufflepuff':['Newton', 'Nymphadora', 'Cedric', 'Teddy'],'Slytherin':['Tom', 'Draco', 'Regulus', 'Narcissa']}\n"
   ]
  },
  {
   "cell_type": "markdown",
   "metadata": {},
   "source": [
    "### Clear the provided dictionary and provide the result"
   ]
  },
  {
   "cell_type": "code",
   "execution_count": null,
   "metadata": {
    "collapsed": true
   },
   "outputs": [],
   "source": [
    "house_roster = {'Gryffindor':['Harry','Ron','Hermione','Neville'],'Ravenclaw':['Luna', 'Gilderoy', 'Penelope', 'Filius'],'Hufflepuff':['Newton', 'Nymphadora', 'Cedric', 'Teddy'],'Slytherin':['Tom', 'Draco', 'Regulus', 'Narcissa']}\n"
   ]
  },
  {
   "cell_type": "markdown",
   "metadata": {},
   "source": [
    "### Pop Gryffindor from the following dictionary.  Print out the list of those Gryffindor students and the updated dictionary"
   ]
  },
  {
   "cell_type": "code",
   "execution_count": null,
   "metadata": {
    "collapsed": true
   },
   "outputs": [],
   "source": [
    "house_roster = {'Gryffindor':['Harry','Ron','Hermione','Neville'],'Ravenclaw':['Luna', 'Gilderoy', 'Penelope', 'Filius'],'Hufflepuff':['Newton', 'Nymphadora', 'Cedric', 'Teddy'],'Slytherin':['Tom', 'Draco', 'Regulus', 'Narcissa']}\n"
   ]
  },
  {
   "cell_type": "markdown",
   "metadata": {},
   "source": [
    "### Pop a random item from the provided list and print its key/value pair"
   ]
  },
  {
   "cell_type": "code",
   "execution_count": null,
   "metadata": {
    "collapsed": true
   },
   "outputs": [],
   "source": [
    "house_roster = {'Gryffindor':['Harry','Ron','Hermione','Neville'],'Ravenclaw':['Luna', 'Gilderoy', 'Penelope', 'Filius'],'Hufflepuff':['Newton', 'Nymphadora', 'Cedric', 'Teddy'],'Slytherin':['Tom', 'Draco', 'Regulus', 'Narcissa']}\n"
   ]
  },
  {
   "cell_type": "markdown",
   "metadata": {},
   "source": [
    "### Search for 'Diagon Alley' in the keys of the dictionary, and it its not there, return 'Not found'"
   ]
  },
  {
   "cell_type": "code",
   "execution_count": null,
   "metadata": {
    "collapsed": true
   },
   "outputs": [],
   "source": [
    "house_roster = {'Gryffindor':['Harry','Ron','Hermione','Neville'],'Ravenclaw':['Luna', 'Gilderoy', 'Penelope', 'Filius'],'Hufflepuff':['Newton', 'Nymphadora', 'Cedric', 'Teddy'],'Slytherin':['Tom', 'Draco', 'Regulus', 'Narcissa']}\n"
   ]
  },
  {
   "cell_type": "markdown",
   "metadata": {},
   "source": [
    "### What is the length of the dictionary"
   ]
  },
  {
   "cell_type": "code",
   "execution_count": null,
   "metadata": {
    "collapsed": true
   },
   "outputs": [],
   "source": [
    "house_roster = {'Gryffindor':['Harry','Ron','Hermione','Neville'],'Ravenclaw':['Luna', 'Gilderoy', 'Penelope', 'Filius'],'Hufflepuff':['Newton', 'Nymphadora', 'Cedric', 'Teddy'],'Slytherin':['Tom', 'Draco', 'Regulus', 'Narcissa']}\n"
   ]
  },
  {
   "cell_type": "markdown",
   "metadata": {},
   "source": [
    "### Create 3 different tuples in three different ways.  Each tuple should have at least 3 elements, all of different types"
   ]
  },
  {
   "cell_type": "code",
   "execution_count": null,
   "metadata": {
    "collapsed": true
   },
   "outputs": [],
   "source": []
  },
  {
   "cell_type": "markdown",
   "metadata": {},
   "source": [
    "### Print only the area code of the below phone number"
   ]
  },
  {
   "cell_type": "code",
   "execution_count": 4,
   "metadata": {},
   "outputs": [
    {
     "name": "stdout",
     "output_type": "stream",
     "text": [
      "('(', 5, 1, 3, ')', ' ', 8, 6, 7, '-', 5, 3, 0, 9)\n"
     ]
    }
   ],
   "source": [
    "phone = ('(', 5, 1, 3, ')',' ',8,6,7,'-',5,3,0,9)"
   ]
  },
  {
   "cell_type": "markdown",
   "metadata": {},
   "source": [
    "### Print the phone number without the area code, include the '-'"
   ]
  },
  {
   "cell_type": "code",
   "execution_count": 5,
   "metadata": {
    "collapsed": true
   },
   "outputs": [],
   "source": [
    "phone = ('(', 5, 1, 3, ')',' ',8,6,7,'-',5,3,0,9)\n"
   ]
  },
  {
   "cell_type": "markdown",
   "metadata": {},
   "source": [
    "### Print the length of the tuple"
   ]
  },
  {
   "cell_type": "code",
   "execution_count": 6,
   "metadata": {
    "collapsed": true
   },
   "outputs": [],
   "source": [
    "phone = ('(', 5, 1, 3, ')',' ',8,6,7,'-',5,3,0,9)"
   ]
  },
  {
   "cell_type": "markdown",
   "metadata": {},
   "source": [
    "### Concatenae the phone_number and the area_code, along with anything else, to create a tuple equal to phone_complete"
   ]
  },
  {
   "cell_type": "code",
   "execution_count": 7,
   "metadata": {
    "collapsed": true
   },
   "outputs": [],
   "source": [
    "area_code = (5, 1, 3)\n",
    "phone_number = (8,6,7,'-',5,3,0,9)\n",
    "phone_complete = ('(', 5, 1, 3, ')',' ',8,6,7,'-',5,3,0,9)"
   ]
  },
  {
   "cell_type": "markdown",
   "metadata": {},
   "source": [
    "### Using the phone number below, create a tuple of just the numbers (none of the symbols) reapeated 3 times.\n",
    "\n",
    "This tuple should have a total lenght on 30"
   ]
  },
  {
   "cell_type": "code",
   "execution_count": null,
   "metadata": {
    "collapsed": true
   },
   "outputs": [],
   "source": [
    "phone_complete = ('(', 5, 1, 3, ')',' ',8,6,7,'-',5,3,0,9)"
   ]
  },
  {
   "cell_type": "markdown",
   "metadata": {},
   "source": [
    "### Print the number of times \"Never gonna let you down\" is in the tuple."
   ]
  },
  {
   "cell_type": "code",
   "execution_count": 13,
   "metadata": {},
   "outputs": [],
   "source": [
    "astley = (\"We're no strangers to love\",\n",
    "\"You know the rules and so do I\",\n",
    "\"A full commitment's what I'm thinking of\",\n",
    "\"You wouldn't get this from any other guy\",\n",
    "\"I just wanna tell you how I'm feeling\",\n",
    "\"Gotta make you understand\",\n",
    "\"Never gonna give you up\",\n",
    "\"Never gonna let you down\",\n",
    "\"Never gonna run around and desert you\",\n",
    "\"Never gonna make you cry\",\n",
    "\"Never gonna say goodbye\",\n",
    "\"Never gonna tell a lie and hurt you\",\n",
    "\"We've known each other for so long\",\n",
    "\"Your heart's been aching, but\",\n",
    "\"You're too shy to say it\",\n",
    "\"Inside, we both know what's been going on\",\n",
    "\"We know the game and we're gonna play it\",\n",
    "\"And if you ask me how I'm feeling\",\n",
    "\"Don't tell me you're too blind to see\",\n",
    "\"Never gonna give you up\",\n",
    "\"Never gonna let you down\",\n",
    "\"Never gonna run around and desert you\",\n",
    "\"Never gonna make you cry\",\n",
    "\"Never gonna say goodbye\",\n",
    "\"Never gonna tell a lie and hurt you\",\n",
    "\"Never gonna give you up\",\n",
    "\"Never gonna let you down\",\n",
    "\"Never gonna run around and desert you\",\n",
    "\"Never gonna make you cry\",\n",
    "\"Never gonna say goodbye\",\n",
    "\"Never gonna tell a lie and hurt you\",\n",
    "\"(Ooh, give you up)\",\n",
    "\"(Ooh, give you up)\",\n",
    "\"Never gonna give, never gonna give\",\n",
    "\"(Give you up)\",\n",
    "\"Never gonna give, never gonna give\",\n",
    "\"(Give you up)\",\n",
    "\"We've known each other for so long\",\n",
    "\"Your heart's been aching, but\",\n",
    "\"You're too shy to say it\",\n",
    "\"Inside, we both know what's been going on\",\n",
    "\"We know the game and we're gonna play it\",\n",
    "\"I just wanna tell you how I'm feeling\",\n",
    "\"Gotta make you understand\",\n",
    "\"Never gonna give you up\",\n",
    "\"Never gonna let you down\",\n",
    "\"Never gonna run around and desert you\",\n",
    "\"Never gonna make you cry\",\n",
    "\"Never gonna say goodbye\",\n",
    "\"Never gonna tell a lie and hurt you\",\n",
    "\"Never gonna give you up\",\n",
    "\"Never gonna let you down\",\n",
    "\"Never gonna run around and desert you\",\n",
    "\"Never gonna make you cry\",\n",
    "\"Never gonna say goodbye\",\n",
    "\"Never gonna tell a lie and hurt you\",\n",
    "\"Never gonna give you up\",\n",
    "\"Never gonna let you down\",\n",
    "\"Never gonna run around and desert you\",\n",
    "\"Never gonna make you cry\",\n",
    "\"Never gonna say goodbye\",\n",
    "\"Never gonna tell a lie and hurt you\")\n"
   ]
  },
  {
   "cell_type": "markdown",
   "metadata": {},
   "source": [
    "### Create a list, tuple, and dictionary and compare their types to see if they are the same.  All should be False."
   ]
  },
  {
   "cell_type": "code",
   "execution_count": null,
   "metadata": {
    "collapsed": true
   },
   "outputs": [],
   "source": []
  },
  {
   "cell_type": "markdown",
   "metadata": {},
   "source": [
    "### Create a dictionary where an element of that dictionary has the same type as the dictionary"
   ]
  },
  {
   "cell_type": "code",
   "execution_count": null,
   "metadata": {
    "collapsed": true
   },
   "outputs": [],
   "source": []
  },
  {
   "cell_type": "markdown",
   "metadata": {},
   "source": [
    "### Add a single comment to make the following equation equal to 32"
   ]
  },
  {
   "cell_type": "code",
   "execution_count": 25,
   "metadata": {},
   "outputs": [],
   "source": [
    "print 8+19*3-15*2-12*2"
   ]
  }
 ],
 "metadata": {
  "anaconda-cloud": {},
  "kernelspec": {
   "display_name": "Python [conda root]",
   "language": "python",
   "name": "conda-root-py"
  },
  "language_info": {
   "codemirror_mode": {
    "name": "ipython",
    "version": 2
   },
   "file_extension": ".py",
   "mimetype": "text/x-python",
   "name": "python",
   "nbconvert_exporter": "python",
   "pygments_lexer": "ipython2",
   "version": "2.7.13"
  }
 },
 "nbformat": 4,
 "nbformat_minor": 2
}
