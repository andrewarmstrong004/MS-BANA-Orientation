{
 "cells": [
  {
   "cell_type": "markdown",
   "metadata": {},
   "source": [
    "# Homework 07 - Introduction to Functions\n",
    "\n",
    "For each of the function problems below, maintain the name of both the functions and the arguments.  If you change either you will be marked down.\n",
    "\n",
    "You can add or change default values if you want though."
   ]
  },
  {
   "cell_type": "markdown",
   "metadata": {},
   "source": [
    "### Create a function, named my_add, that returns the sum of two numbers"
   ]
  },
  {
   "cell_type": "code",
   "execution_count": 5,
   "metadata": {
    "collapsed": true
   },
   "outputs": [],
   "source": [
    "def my_add(a,b):\n",
    "    pass"
   ]
  },
  {
   "cell_type": "markdown",
   "metadata": {},
   "source": [
    "### Create a function, called my_factorial, which returns the factorial of the provided number.\n",
    "\n",
    "https://en.wikipedia.org/wiki/Factorial"
   ]
  },
  {
   "cell_type": "code",
   "execution_count": null,
   "metadata": {
    "collapsed": true
   },
   "outputs": [],
   "source": [
    "def my_factorial(value):\n",
    "    pass"
   ]
  },
  {
   "cell_type": "markdown",
   "metadata": {},
   "source": [
    "### Create a function, named odd_or_even, that tells me if the provided integer is odd or even"
   ]
  },
  {
   "cell_type": "code",
   "execution_count": null,
   "metadata": {
    "collapsed": true
   },
   "outputs": [],
   "source": [
    "def odd_or_even(number):\n",
    "    pass"
   ]
  },
  {
   "cell_type": "markdown",
   "metadata": {},
   "source": [
    "### Create a function, named divisors, which tells me every number from 1 upto the original value that divides the original evenly\n",
    "\n",
    "For example, given 15, divisors should return the list [1,3,5,15]\n",
    "\n",
    "Given 1, divisors should return the list [1]\n",
    "\n",
    "Given 11, divisors should return the list [1,11]"
   ]
  },
  {
   "cell_type": "code",
   "execution_count": null,
   "metadata": {
    "collapsed": true
   },
   "outputs": [],
   "source": [
    "def divisors(value):\n",
    "    pass"
   ]
  },
  {
   "cell_type": "markdown",
   "metadata": {},
   "source": [
    "### Create a function, named fibonacci, which returns a list of all the Fibonacci numbers less than the provided value\n",
    "\n",
    "For exampe, given 15, the returned list should be [1,1,2,3,5,8,13]\n",
    "\n",
    "https://en.wikipedia.org/wiki/Fibonacci_number"
   ]
  },
  {
   "cell_type": "code",
   "execution_count": null,
   "metadata": {
    "collapsed": true
   },
   "outputs": [],
   "source": [
    "def fibonacci(max_value):\n",
    "    pass"
   ]
  },
  {
   "cell_type": "markdown",
   "metadata": {},
   "source": [
    "### Create a function, called palindrome, which tells me if the provided string is a palindrome (same forwards as backwards)\n",
    "\n",
    "Don't worry about puncuation\n",
    "\n",
    "http://examples.yourdictionary.com/palindrome-examples.html\n",
    "\n",
    "https://en.wikipedia.org/wiki/Palindrome"
   ]
  },
  {
   "cell_type": "code",
   "execution_count": null,
   "metadata": {
    "collapsed": true
   },
   "outputs": [],
   "source": [
    "def palindrome(input_string):\n",
    "    pass"
   ]
  },
  {
   "cell_type": "markdown",
   "metadata": {},
   "source": [
    "### Write a function, called my_sort, which takes a list of numbers as input and returns the values sorted from smallest to largest\n",
    "\n",
    "Dont use any built in sort functions"
   ]
  },
  {
   "cell_type": "code",
   "execution_count": null,
   "metadata": {
    "collapsed": true
   },
   "outputs": [],
   "source": [
    "def my_sort(values):\n",
    "    pass"
   ]
  },
  {
   "cell_type": "markdown",
   "metadata": {},
   "source": [
    "### Create a function called my_power which raises the first number to the power of the second number.  The second number should default to 2 if nothing else is given."
   ]
  },
  {
   "cell_type": "code",
   "execution_count": null,
   "metadata": {
    "collapsed": true
   },
   "outputs": [],
   "source": [
    "def my_power(base, power):\n",
    "    pass"
   ]
  },
  {
   "cell_type": "markdown",
   "metadata": {},
   "source": [
    "### Write a function, called my_sum, which adds an set (of unknown lenght) of number together.\n",
    "\n",
    "Don't use the built-in sum function or numpy's sum funciton"
   ]
  },
  {
   "cell_type": "code",
   "execution_count": 1,
   "metadata": {
    "collapsed": true
   },
   "outputs": [],
   "source": [
    "def my_sum(*args):\n",
    "    pass"
   ]
  },
  {
   "cell_type": "markdown",
   "metadata": {},
   "source": [
    "### Create a function, basic_calc, which takes two values, a and b, and potentially multiple operations as a key words (add, subtract, multiply, divide).  It then returns a list of the result of the two value and the various operations\n",
    "\n",
    "For example, given the function call\n",
    "\n",
    "basic_calc(5,9,'subtract')\n",
    "\n",
    "would return -4"
   ]
  },
  {
   "cell_type": "markdown",
   "metadata": {},
   "source": [
    "The function call\n",
    "\n",
    "basic_calc(13.0,7.0,'add','subtract','divide','add')\n",
    "\n",
    "would return [20.0, 5.0, 1.857, 20.0]"
   ]
  },
  {
   "cell_type": "code",
   "execution_count": 3,
   "metadata": {
    "collapsed": true
   },
   "outputs": [],
   "source": [
    "def basic_calc(a,b,**kwargs):\n",
    "    pass"
   ]
  }
 ],
 "metadata": {
  "anaconda-cloud": {},
  "kernelspec": {
   "display_name": "Python 2",
   "language": "python",
   "name": "python2"
  },
  "language_info": {
   "codemirror_mode": {
    "name": "ipython",
    "version": 2
   },
   "file_extension": ".py",
   "mimetype": "text/x-python",
   "name": "python",
   "nbconvert_exporter": "python",
   "pygments_lexer": "ipython2",
   "version": "2.7.13"
  }
 },
 "nbformat": 4,
 "nbformat_minor": 2
}
