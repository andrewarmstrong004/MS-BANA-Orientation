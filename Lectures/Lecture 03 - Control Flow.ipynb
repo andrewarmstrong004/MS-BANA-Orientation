{
 "cells": [
  {
   "cell_type": "markdown",
   "metadata": {},
   "source": [
    "# Lecture 03 - Control Flow"
   ]
  },
  {
   "cell_type": "markdown",
   "metadata": {},
   "source": [
    "# If Statements\n",
    "\n",
    "This is where our whitespace starts to become very important.  Make sure you use only a tab to change between levels for the if statements.\n",
    "\n",
    "Basic format for an if statement in Python:\n",
    "\n",
    "if test1:         # if test\n",
    "\n",
    "    statement1    # associated block to execute\n",
    "    \n",
    "elif test2:       # optional else if test\n",
    "\n",
    "    statement2    #\n",
    "\n",
    "else:             # optional else\n",
    "\n",
    "    statement3    #"
   ]
  },
  {
   "cell_type": "markdown",
   "metadata": {},
   "source": [
    "## Basic If Statement Construction"
   ]
  },
  {
   "cell_type": "code",
   "execution_count": null,
   "metadata": {},
   "outputs": [],
   "source": [
    "if True:\n",
    "    print 'in the if statement'"
   ]
  },
  {
   "cell_type": "code",
   "execution_count": null,
   "metadata": {},
   "outputs": [],
   "source": [
    "if True:\n",
    "    print 'in the if statement'\n",
    "else:\n",
    "    print 'in the else statement'"
   ]
  },
  {
   "cell_type": "code",
   "execution_count": null,
   "metadata": {},
   "outputs": [],
   "source": [
    "if False:\n",
    "    print 'in the if statement'\n",
    "else:\n",
    "    print 'in the else statement'"
   ]
  },
  {
   "cell_type": "code",
   "execution_count": null,
   "metadata": {},
   "outputs": [],
   "source": [
    "if False:\n",
    "    print 'in the if statement'\n",
    "elif True:\n",
    "    print 'in the elif statement'\n",
    "else:\n",
    "    print 'in the else statement'"
   ]
  },
  {
   "cell_type": "code",
   "execution_count": null,
   "metadata": {},
   "outputs": [],
   "source": [
    "var = True\n",
    "\n",
    "if var:\n",
    "    print 'in the if statement'\n",
    "elif var:\n",
    "    print 'in the elif statement'\n",
    "else:\n",
    "    print 'in the else statement'"
   ]
  },
  {
   "cell_type": "code",
   "execution_count": null,
   "metadata": {},
   "outputs": [],
   "source": [
    "a = 17\n",
    "b = 10\n",
    "\n",
    "if a < b:\n",
    "    print 'b is larger'\n",
    "else:\n",
    "    print 'a is larger or equal to b'"
   ]
  },
  {
   "cell_type": "markdown",
   "metadata": {},
   "source": [
    "## Combining Functions and Conditionals"
   ]
  },
  {
   "cell_type": "code",
   "execution_count": null,
   "metadata": {},
   "outputs": [],
   "source": [
    "def compare(a,b):\n",
    "    if a < b:\n",
    "        print 'b is larger'\n",
    "    else:\n",
    "        print 'a is larger or equal to b'\n",
    "\n",
    "compare(4,8)\n",
    "compare(8,4)\n",
    "compare(8,8)"
   ]
  },
  {
   "cell_type": "code",
   "execution_count": null,
   "metadata": {
    "collapsed": true
   },
   "outputs": [],
   "source": []
  }
 ],
 "metadata": {
  "anaconda-cloud": {},
  "kernelspec": {
   "display_name": "Python [default]",
   "language": "python",
   "name": "python2"
  },
  "language_info": {
   "codemirror_mode": {
    "name": "ipython",
    "version": 2
   },
   "file_extension": ".py",
   "mimetype": "text/x-python",
   "name": "python",
   "nbconvert_exporter": "python",
   "pygments_lexer": "ipython2",
   "version": "2.7.13"
  }
 },
 "nbformat": 4,
 "nbformat_minor": 2
}
