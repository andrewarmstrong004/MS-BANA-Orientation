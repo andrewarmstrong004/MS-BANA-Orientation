{
 "cells": [
  {
   "cell_type": "markdown",
   "metadata": {
    "collapsed": true
   },
   "source": [
    "# Lecture 07 - Advanced Functions"
   ]
  },
  {
   "cell_type": "markdown",
   "metadata": {},
   "source": [
    "## Purpose for Functions\n",
    "\n",
    "What are functions for?\n",
    "* Maximizing core reuse\n",
    "* Minimizing redundancy\n",
    "* Procedural decomposition"
   ]
  },
  {
   "cell_type": "markdown",
   "metadata": {},
   "source": [
    "#### Print out all the multiples of 3 less than 100\n",
    "\n",
    "We want to print out all the multiples of 3 less than 100, which we did in the homework.  Here is one way to do that:"
   ]
  },
  {
   "cell_type": "code",
   "execution_count": null,
   "metadata": {},
   "outputs": [],
   "source": [
    "val = 3\n",
    "multiples = list()\n",
    "while val < 100:\n",
    "    multiples.append(val)\n",
    "    val += 3\n",
    "    \n",
    "print multiples"
   ]
  },
  {
   "cell_type": "markdown",
   "metadata": {},
   "source": [
    "How do you change the code so that you give me all the multiples of 5 less than 100?"
   ]
  },
  {
   "cell_type": "code",
   "execution_count": null,
   "metadata": {},
   "outputs": [],
   "source": [
    "val = 5\n",
    "multiples = list()\n",
    "while val < 100:\n",
    "    multiples.append(val)\n",
    "    val += 5\n",
    "    \n",
    "print multiples"
   ]
  },
  {
   "cell_type": "markdown",
   "metadata": {},
   "source": [
    "Now the multiples, less than 100, for every natural number less than or equal to 10 (1 through 10)?\n",
    "\n",
    "We would have to write out all that code above 10 different times.  And then what happens when we want it for the multiples less than a different number?  We would have to redo everything.\n",
    "\n",
    "Functions give us a way to solve all of this."
   ]
  },
  {
   "cell_type": "markdown",
   "metadata": {},
   "source": [
    "## Creating a function\n",
    "\n",
    "We use the keyword def to create a function.  Lets make a very simple function"
   ]
  },
  {
   "cell_type": "code",
   "execution_count": null,
   "metadata": {
    "collapsed": true
   },
   "outputs": [],
   "source": [
    "def hello():\n",
    "    print 'hello world'"
   ]
  },
  {
   "cell_type": "markdown",
   "metadata": {},
   "source": [
    "No we can call that function to get the desired result"
   ]
  },
  {
   "cell_type": "code",
   "execution_count": null,
   "metadata": {},
   "outputs": [],
   "source": [
    "hello()"
   ]
  },
  {
   "cell_type": "markdown",
   "metadata": {},
   "source": [
    "#### What is happening?\n",
    "\n",
    "Def is creating an object and assigning it to the provided name, in this case hello."
   ]
  },
  {
   "cell_type": "markdown",
   "metadata": {},
   "source": [
    "## Returning information\n",
    "\n",
    "To get information back from a function we use the keywork return"
   ]
  },
  {
   "cell_type": "code",
   "execution_count": null,
   "metadata": {
    "collapsed": true
   },
   "outputs": [],
   "source": [
    "def the_answer():\n",
    "    return 42"
   ]
  },
  {
   "cell_type": "code",
   "execution_count": null,
   "metadata": {},
   "outputs": [],
   "source": [
    "print 'the meaning to life, the universe, and everything is ' + str(the_answer())"
   ]
  },
  {
   "cell_type": "markdown",
   "metadata": {},
   "source": [
    "## Arguments\n",
    "\n",
    "We can also pass in arguments through a few different methods\n",
    "* By name\n",
    "* By position\n",
    "* Keyword"
   ]
  },
  {
   "cell_type": "markdown",
   "metadata": {},
   "source": [
    "#### Assigning arguments by name"
   ]
  },
  {
   "cell_type": "code",
   "execution_count": null,
   "metadata": {
    "collapsed": true
   },
   "outputs": [],
   "source": [
    "def times(a, b):\n",
    "    return a * b"
   ]
  },
  {
   "cell_type": "code",
   "execution_count": null,
   "metadata": {},
   "outputs": [],
   "source": [
    "times(a=4, b=7)"
   ]
  },
  {
   "cell_type": "code",
   "execution_count": null,
   "metadata": {
    "collapsed": true
   },
   "outputs": [],
   "source": [
    "def meaning(the_answer):\n",
    "    print 'The meaning to life, the universe, and everything is %s' % (the_answer)"
   ]
  },
  {
   "cell_type": "code",
   "execution_count": null,
   "metadata": {},
   "outputs": [],
   "source": [
    "meaning(the_answer = 17)"
   ]
  },
  {
   "cell_type": "code",
   "execution_count": null,
   "metadata": {},
   "outputs": [],
   "source": [
    "def multiples_less_than_100(value):\n",
    "    add = value\n",
    "    multiples = list()\n",
    "    while value < 100:\n",
    "        multiples.append(value)\n",
    "        value += add\n",
    "    return multiples\n",
    "\n",
    "\n",
    "print multiples_less_than_100(value = 3)"
   ]
  },
  {
   "cell_type": "code",
   "execution_count": null,
   "metadata": {},
   "outputs": [],
   "source": [
    "print multiples_less_than_100(value = 17)"
   ]
  },
  {
   "cell_type": "code",
   "execution_count": null,
   "metadata": {},
   "outputs": [],
   "source": [
    "print multiples_less_than_100(value = 5)"
   ]
  },
  {
   "cell_type": "code",
   "execution_count": null,
   "metadata": {},
   "outputs": [],
   "source": [
    "def multiples_less_than(value, max_value):\n",
    "    add = value\n",
    "    multiples = list()\n",
    "    while value < max_value:\n",
    "        multiples.append(value)\n",
    "        value += add\n",
    "    return multiples\n",
    "\n",
    "\n",
    "print multiples_less_than(value = 3, max_value = 300)"
   ]
  },
  {
   "cell_type": "markdown",
   "metadata": {},
   "source": [
    "##### Since we are giving the values names, we can move them around in the function call"
   ]
  },
  {
   "cell_type": "code",
   "execution_count": null,
   "metadata": {},
   "outputs": [],
   "source": [
    "print multiples_less_than(max_value = 300, value = 3)"
   ]
  },
  {
   "cell_type": "markdown",
   "metadata": {},
   "source": [
    "#### Assigning arguments by position\n",
    "\n",
    "For a lot of functions, giving each variable an assignment with a name is overkill, we can just use position"
   ]
  },
  {
   "cell_type": "code",
   "execution_count": null,
   "metadata": {},
   "outputs": [],
   "source": [
    "def times(a, b):\n",
    "    return a * b\n",
    "\n",
    "print times(a = 3, b = 9)\n",
    "print times(7, b=2)\n",
    "print times(2,3)"
   ]
  },
  {
   "cell_type": "code",
   "execution_count": null,
   "metadata": {},
   "outputs": [],
   "source": [
    "print times(a=8, 9)"
   ]
  },
  {
   "cell_type": "code",
   "execution_count": null,
   "metadata": {},
   "outputs": [],
   "source": [
    "print times(7, a=2)"
   ]
  },
  {
   "cell_type": "markdown",
   "metadata": {},
   "source": [
    "#### Argument defaults\n",
    "\n",
    "We can also add default values for the input variables by just putting the value in the definition"
   ]
  },
  {
   "cell_type": "code",
   "execution_count": null,
   "metadata": {},
   "outputs": [],
   "source": [
    "def meaning(the_answer = 42):\n",
    "    print 'The meaning to life, the universe, and everything is %s' % (the_answer)\n",
    "    \n",
    "meaning(the_answer = 7)\n",
    "print\n",
    "meaning(12)\n",
    "print\n",
    "meaning()"
   ]
  },
  {
   "cell_type": "code",
   "execution_count": null,
   "metadata": {},
   "outputs": [],
   "source": [
    "def multiples_less_than(value, max_value = 100):\n",
    "    add = value\n",
    "    multiples = list()\n",
    "    while value < max_value:\n",
    "        multiples.append(value)\n",
    "        value += add\n",
    "    return multiples\n",
    "\n",
    "\n",
    "print multiples_less_than(value = 3, max_value = 300)\n",
    "print\n",
    "print multiples_less_than(value = 3, max_value = 50)\n",
    "print\n",
    "print multiples_less_than(value = 3, max_value = 100)\n",
    "print\n",
    "print multiples_less_than(value = 3)\n",
    "print\n",
    "print multiples_less_than(15)"
   ]
  },
  {
   "cell_type": "markdown",
   "metadata": {},
   "source": [
    "#### Keyword arguments\n",
    "\n",
    "Python also gives us a way to define an unknonw number of variables in a function using \n",
    "* *args\n",
    "* **kwargs"
   ]
  },
  {
   "cell_type": "markdown",
   "metadata": {},
   "source": [
    "##### args\n",
    "\n",
    "n ordered arguments"
   ]
  },
  {
   "cell_type": "code",
   "execution_count": null,
   "metadata": {},
   "outputs": [],
   "source": [
    "def test(*args):\n",
    "    print type(args)\n",
    "    \n",
    "test('hello', 7, [1,2,3])"
   ]
  },
  {
   "cell_type": "code",
   "execution_count": null,
   "metadata": {},
   "outputs": [],
   "source": [
    "def test(*args):\n",
    "    for val in args:\n",
    "        print val\n",
    "    \n",
    "test('hello', 7, [1,2,3])"
   ]
  },
  {
   "cell_type": "code",
   "execution_count": null,
   "metadata": {},
   "outputs": [],
   "source": [
    "    def add(*args):\n",
    "        value = 0\n",
    "        for val in args:\n",
    "            value += val\n",
    "        return value\n",
    "\n",
    "print add(2,5,19,26)\n",
    "print\n",
    "print 2 + 5 + 19 + 26"
   ]
  },
  {
   "cell_type": "code",
   "execution_count": null,
   "metadata": {},
   "outputs": [],
   "source": [
    "def add(*args):\n",
    "    value = 0\n",
    "    for val in args:\n",
    "        value += val\n",
    "    return value\n",
    "\n",
    "args = (2,5,19,26)\n",
    "print add(*args)\n",
    "print\n",
    "args = [2,5,19,26]\n",
    "print add(*args)\n",
    "print\n",
    "print 2 + 5 + 19 + 26"
   ]
  },
  {
   "cell_type": "markdown",
   "metadata": {},
   "source": [
    "##### kwargs\n",
    "\n",
    "dictionary of unordered arguments"
   ]
  },
  {
   "cell_type": "code",
   "execution_count": null,
   "metadata": {},
   "outputs": [],
   "source": [
    "def say_all(**kwargs):\n",
    "    print type(kwargs)\n",
    "\n",
    "say_all(test=5)"
   ]
  },
  {
   "cell_type": "code",
   "execution_count": null,
   "metadata": {},
   "outputs": [],
   "source": [
    "def say_all(**kwargs):\n",
    "    for item in kwargs:\n",
    "        print item + ': ' + str(kwargs[item])\n",
    "        \n",
    "\n",
    "say_all(test=5, hello='hello', some_stuff = [5,4,3])"
   ]
  },
  {
   "cell_type": "markdown",
   "metadata": {},
   "source": [
    "We can also just pass a dictionary using **"
   ]
  },
  {
   "cell_type": "code",
   "execution_count": null,
   "metadata": {},
   "outputs": [],
   "source": [
    "def say_all(**kwargs):\n",
    "    for item in kwargs:\n",
    "        print item + ': ' + str(kwargs[item])\n",
    "        \n",
    "\n",
    "input_dict = {'test':5, 'hello':'hello', 'some_stuff':[5,4,3]}\n",
    "say_all(**{'test':5, 'hello':'hello', 'some_stuff':[5,4,3]})"
   ]
  },
  {
   "cell_type": "markdown",
   "metadata": {},
   "source": [
    "## Scope\n",
    "\n",
    "Scope can be a big issue for functions\n",
    "\n",
    "The name resolution scheme can be remembered using the acronym LEGB\n",
    "* L - local\n",
    "* E - enclosing (defs and lambdas)\n",
    "* G - Global\n",
    "* B - Built-in\n",
    "\n",
    "When you assign a name in a function Python always creates or changes the name in the local scope, unless you declare it to be a global name\n",
    "\n",
    "When a variable is referenced it will search in order, L then E then G then B, the first one found is used."
   ]
  },
  {
   "cell_type": "code",
   "execution_count": null,
   "metadata": {},
   "outputs": [],
   "source": [
    "x = 99\n",
    "def func(y):\n",
    "    z = x + y\n",
    "    return z\n",
    "\n",
    "print func(7)"
   ]
  },
  {
   "cell_type": "code",
   "execution_count": null,
   "metadata": {},
   "outputs": [],
   "source": [
    "x = 99\n",
    "def func(x, y):\n",
    "    z = x + y\n",
    "    print x\n",
    "    return z\n",
    "\n",
    "print func(7, 11)\n",
    "print \n",
    "print x"
   ]
  },
  {
   "cell_type": "code",
   "execution_count": null,
   "metadata": {},
   "outputs": [],
   "source": [
    "x = 99\n",
    "def func(y):\n",
    "    x = 12\n",
    "    z = x + y\n",
    "    return z\n",
    "\n",
    "print func(7)\n",
    "print \n",
    "print x"
   ]
  },
  {
   "cell_type": "markdown",
   "metadata": {},
   "source": [
    "##### The global keyword"
   ]
  },
  {
   "cell_type": "code",
   "execution_count": null,
   "metadata": {},
   "outputs": [],
   "source": [
    "x = 99\n",
    "def func(y):\n",
    "    global x\n",
    "    x = 12\n",
    "    z = x + y\n",
    "    return z, x\n",
    "\n",
    "z,x = func(7)\n",
    "print z\n",
    "print \n",
    "print x"
   ]
  },
  {
   "cell_type": "markdown",
   "metadata": {},
   "source": [
    "### The Lambda function\n",
    "\n",
    "The lambda keyword allows us to make unnamed functions.  This is a relatively difficult concept to cover for most people, which can be almost completely avoided, so we will just very briefly go over it so that you can recognize it when you come across it.\n",
    "\n",
    "Lambdas are useful for when you want to use a function, but you know you will only use it once.  Even in this case I will generally write out the complete function because I understand it better that way, however, lambda can make you code much simpler sometimes."
   ]
  },
  {
   "cell_type": "code",
   "execution_count": null,
   "metadata": {},
   "outputs": [],
   "source": [
    "add = lambda x, y: x + y\n",
    "\n",
    "print(add(3, 5))"
   ]
  },
  {
   "cell_type": "code",
   "execution_count": null,
   "metadata": {},
   "outputs": [],
   "source": [
    "a = [(1, 2), (4, 1), (9, 10), (13, -3)]\n",
    "a.sort(key=lambda x: -x[1])\n",
    "\n",
    "print(a)"
   ]
  },
  {
   "cell_type": "code",
   "execution_count": null,
   "metadata": {
    "collapsed": true
   },
   "outputs": [],
   "source": [
    "foo = [2, 18, 9, 22, 17, 24, 8, 12, 27]"
   ]
  },
  {
   "cell_type": "markdown",
   "metadata": {},
   "source": [
    "##### Map\n",
    "\n",
    "Applies a function to all the elements in the input"
   ]
  },
  {
   "cell_type": "code",
   "execution_count": null,
   "metadata": {},
   "outputs": [],
   "source": [
    "print map(lambda x: x * 2 + 10, foo)"
   ]
  },
  {
   "cell_type": "markdown",
   "metadata": {},
   "source": [
    "##### Filter\n",
    "\n",
    "Creates a list of elements for when the result of the lambda function is True"
   ]
  },
  {
   "cell_type": "code",
   "execution_count": null,
   "metadata": {},
   "outputs": [],
   "source": [
    "print filter(lambda x: x % 2 == 0, foo)"
   ]
  },
  {
   "cell_type": "markdown",
   "metadata": {},
   "source": [
    "##### Reduce\n",
    "\n",
    "Provides some computation on the list and returns the result, for example a rolling sum or product"
   ]
  },
  {
   "cell_type": "code",
   "execution_count": null,
   "metadata": {},
   "outputs": [],
   "source": [
    "print reduce(lambda x, y: x + y, foo)"
   ]
  }
 ],
 "metadata": {
  "anaconda-cloud": {},
  "kernelspec": {
   "display_name": "Python [default]",
   "language": "python",
   "name": "python2"
  },
  "language_info": {
   "codemirror_mode": {
    "name": "ipython",
    "version": 2
   },
   "file_extension": ".py",
   "mimetype": "text/x-python",
   "name": "python",
   "nbconvert_exporter": "python",
   "pygments_lexer": "ipython2",
   "version": "2.7.13"
  }
 },
 "nbformat": 4,
 "nbformat_minor": 2
}
