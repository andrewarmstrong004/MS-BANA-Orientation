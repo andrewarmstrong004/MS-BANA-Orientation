{
 "cells": [
  {
   "cell_type": "markdown",
   "metadata": {
    "collapsed": true
   },
   "source": [
    "# Lecture 06 - Loops"
   ]
  },
  {
   "cell_type": "markdown",
   "metadata": {},
   "source": [
    "# While Loops \n",
    "\n",
    "Executes a block of code while a condition remains true.  The condition is only checked at the beginning of each loop.\n",
    "\n",
    "General format:\n",
    "\n",
    "while test: #loop test\n",
    "\n",
    "    statements #loop body\n",
    "    \n",
    "else: #optional else\n",
    "\n",
    "    statements #run if exited without break"
   ]
  },
  {
   "cell_type": "code",
   "execution_count": null,
   "metadata": {},
   "outputs": [],
   "source": [
    "x = 1\n",
    "while x <= 5:\n",
    "    print x\n",
    "    x += 1\n",
    "    if x == 4:\n",
    "        break\n",
    "else:\n",
    "    print 'all done'"
   ]
  },
  {
   "cell_type": "code",
   "execution_count": null,
   "metadata": {},
   "outputs": [],
   "source": [
    "x = 'string'\n",
    "while x: #while x is not empty\n",
    "    print x\n",
    "    x = x[1:] #strip off first character\n",
    "    "
   ]
  },
  {
   "cell_type": "code",
   "execution_count": null,
   "metadata": {},
   "outputs": [],
   "source": [
    "while True:\n",
    "    print 'still running'"
   ]
  },
  {
   "cell_type": "markdown",
   "metadata": {},
   "source": [
    "### Simple loops statements\n",
    "\n",
    "break - jumps out of the closest enclosing loop\n",
    "\n",
    "continue - jumps to the top of the closest enclosing loop\n",
    "\n",
    "pass - don't do anything, this is just a place holder\n",
    "\n",
    "loop else block - only runs if the loop exits without using a break"
   ]
  },
  {
   "cell_type": "code",
   "execution_count": null,
   "metadata": {},
   "outputs": [],
   "source": [
    "x = 0\n",
    "\n",
    "while x < 10:\n",
    "    print 'starting loop round'\n",
    "    if x == 2:\n",
    "        pass\n",
    "    if x == 4:\n",
    "        x=6\n",
    "        continue\n",
    "        \n",
    "    if x==7:\n",
    "        print 'reached a break'\n",
    "        break\n",
    "        \n",
    "    print x\n",
    "    x +=1\n",
    "    \n",
    "    print 'done with loop round'"
   ]
  },
  {
   "cell_type": "markdown",
   "metadata": {},
   "source": [
    "# For Loops\n",
    "\n",
    "Acts as an iterator, stepping through an ordered sequence or other interable object.\n",
    "\n",
    "General format:\n",
    "\n",
    "for target in object: #assign object items to target\n",
    "\n",
    "    statements #loop body, use target\n",
    "    \n",
    "else: #optional else\n",
    "\n",
    "    statements #run if exited without break"
   ]
  },
  {
   "cell_type": "code",
   "execution_count": null,
   "metadata": {},
   "outputs": [],
   "source": [
    "for x in ['a', 'b', 'c']:\n",
    "    print x\n",
    "else:\n",
    "    print 'got to the end'"
   ]
  },
  {
   "cell_type": "code",
   "execution_count": null,
   "metadata": {},
   "outputs": [],
   "source": [
    "for x in ['a', 'b', 'c']:\n",
    "    print x\n",
    "    if x == 'c':\n",
    "        break\n",
    "else:\n",
    "    print 'got to the end'"
   ]
  },
  {
   "cell_type": "code",
   "execution_count": null,
   "metadata": {},
   "outputs": [],
   "source": [
    "print range(2,7)"
   ]
  },
  {
   "cell_type": "code",
   "execution_count": null,
   "metadata": {},
   "outputs": [],
   "source": [
    "sum = 0\n",
    "for x in range(20):\n",
    "    sum += x\n",
    "    print sum"
   ]
  },
  {
   "cell_type": "code",
   "execution_count": null,
   "metadata": {},
   "outputs": [],
   "source": [
    "prod = 1\n",
    "for x in range(1,5):\n",
    "    prod *= x\n",
    "    print prod"
   ]
  },
  {
   "cell_type": "code",
   "execution_count": null,
   "metadata": {},
   "outputs": [],
   "source": [
    "for s in 'longer string':\n",
    "    print s"
   ]
  },
  {
   "cell_type": "code",
   "execution_count": null,
   "metadata": {},
   "outputs": [],
   "source": [
    "T = [(1,2), (3,4), (5,6)]\n",
    "for (a,b) in T:\n",
    "    print 'a is ' + str(a)\n",
    "    print 'b is ' + str(b)\n",
    "    print "
   ]
  },
  {
   "cell_type": "code",
   "execution_count": null,
   "metadata": {},
   "outputs": [],
   "source": [
    "T = [(1,2), (3,4), (5,6)]\n",
    "for both in T:\n",
    "    a,b = both\n",
    "    print 'a is ' + str(a)\n",
    "    print 'b is ' + str(b)\n",
    "    print "
   ]
  },
  {
   "cell_type": "code",
   "execution_count": null,
   "metadata": {},
   "outputs": [],
   "source": [
    "D = {'name': 'Drew', 'age': 32, 'job': 'prof'}\n",
    "for key in D:\n",
    "    print key\n",
    "    print D[key]\n",
    "    print"
   ]
  },
  {
   "cell_type": "code",
   "execution_count": null,
   "metadata": {},
   "outputs": [],
   "source": [
    "D = {'name': 'Drew', 'age': 32, 'job': 'prof'}\n",
    "for key, value in D.items():\n",
    "    print key\n",
    "    print value\n",
    "    print"
   ]
  },
  {
   "cell_type": "markdown",
   "metadata": {},
   "source": [
    "### Nested Loops "
   ]
  },
  {
   "cell_type": "code",
   "execution_count": null,
   "metadata": {},
   "outputs": [],
   "source": [
    "items = ['aaa', 111, (4,5), 2.01]\n",
    "tests = [(4,5), 3.14]\n",
    "\n",
    "for key in tests:\n",
    "    for item in items:\n",
    "        if item == key:\n",
    "            print str(key) + ' was found'\n",
    "            break\n",
    "        else:\n",
    "            print str(key) + ' was not found'"
   ]
  },
  {
   "cell_type": "code",
   "execution_count": null,
   "metadata": {},
   "outputs": [],
   "source": [
    "items = ['aaa', 111, (4,5), 2.01]\n",
    "tests = [(4,5), 3.14]\n",
    "\n",
    "for key in tests:\n",
    "    for item in items:\n",
    "        if item == key:\n",
    "            print str(key) + ' was found'\n",
    "            break\n",
    "    else:\n",
    "        print str(key) + ' was not found'"
   ]
  },
  {
   "cell_type": "markdown",
   "metadata": {},
   "source": [
    "### Useful Loop Methods"
   ]
  },
  {
   "cell_type": "markdown",
   "metadata": {},
   "source": [
    "##### range "
   ]
  },
  {
   "cell_type": "code",
   "execution_count": null,
   "metadata": {},
   "outputs": [],
   "source": [
    "print range(10)"
   ]
  },
  {
   "cell_type": "code",
   "execution_count": null,
   "metadata": {},
   "outputs": [],
   "source": [
    "print range(3,10)"
   ]
  },
  {
   "cell_type": "code",
   "execution_count": null,
   "metadata": {},
   "outputs": [],
   "source": [
    "print range(-4,5)"
   ]
  },
  {
   "cell_type": "markdown",
   "metadata": {},
   "source": [
    "##### len and range \n",
    "\n",
    "Combine these two concepts to help iterate through lists of items"
   ]
  },
  {
   "cell_type": "code",
   "execution_count": null,
   "metadata": {},
   "outputs": [],
   "source": [
    "s = 'spam'\n",
    "for i in range(len(s)):\n",
    "    s = s[1:] + s[:1]\n",
    "    print s"
   ]
  },
  {
   "cell_type": "markdown",
   "metadata": {},
   "source": [
    "##### zip\n",
    "\n",
    "Ties together two iterable items"
   ]
  },
  {
   "cell_type": "code",
   "execution_count": null,
   "metadata": {},
   "outputs": [],
   "source": [
    "L1 = [0,1]\n",
    "L2 = ['a', 'b', 'c', 'd']\n",
    "\n",
    "for x,y in zip(L1, L2):\n",
    "    print str(x) + ' is connected with ' + y"
   ]
  },
  {
   "cell_type": "code",
   "execution_count": null,
   "metadata": {},
   "outputs": [],
   "source": [
    "L1 = [0,1,2,3]\n",
    "L2 = ['a', 'b', 'c', 'd']\n",
    "\n",
    "D = dict()\n",
    "\n",
    "for x,y in zip(L1, L2):\n",
    "    D[y] = x\n",
    "\n",
    "print D"
   ]
  },
  {
   "cell_type": "markdown",
   "metadata": {},
   "source": [
    "##### Enumerate\n",
    "\n",
    "Gives you the index and the value at that index"
   ]
  },
  {
   "cell_type": "code",
   "execution_count": null,
   "metadata": {},
   "outputs": [],
   "source": [
    "L2 = ['a', 'b', 'c', 'd']\n",
    "\n",
    "for (idx, l) in enumerate(L2):\n",
    "    print l + ' is at index: ' + str(idx)"
   ]
  }
 ],
 "metadata": {
  "anaconda-cloud": {},
  "kernelspec": {
   "display_name": "Python [default]",
   "language": "python",
   "name": "python2"
  },
  "language_info": {
   "codemirror_mode": {
    "name": "ipython",
    "version": 2
   },
   "file_extension": ".py",
   "mimetype": "text/x-python",
   "name": "python",
   "nbconvert_exporter": "python",
   "pygments_lexer": "ipython2",
   "version": "2.7.13"
  }
 },
 "nbformat": 4,
 "nbformat_minor": 2
}
